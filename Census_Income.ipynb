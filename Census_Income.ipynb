{
 "cells": [
  {
   "cell_type": "markdown",
   "metadata": {},
   "source": [
    "# Project: Census Income\n",
    "\n",
    "#### Project Goal: \n",
    "Use Random Forests to classify income as <=50k or >50k.\n",
    "\n",
    "#### Data: \n",
    "Data obtained from the UCI Machine Learning Repository at https://archive.ics.uci.edu/ml/datasets/census%20income.\n",
    "\n",
    "#### Analysis and Evaluation: \n",
    "A Random Forests model will be implemented and model performance will be determined by the accuracy obatained and recall."
   ]
  },
  {
   "cell_type": "code",
   "execution_count": 1,
   "metadata": {},
   "outputs": [],
   "source": [
    "# import python modules\n",
    "\n",
    "import pandas as pd\n",
    "from sklearn.model_selection import train_test_split\n",
    "from sklearn import tree\n",
    "from sklearn.ensemble import RandomForestClassifier\n",
    "from sklearn.metrics import classification_report, confusion_matrix\n",
    "import matplotlib.pyplot as plt\n",
    "import seaborn as sns"
   ]
  },
  {
   "cell_type": "code",
   "execution_count": 2,
   "metadata": {},
   "outputs": [
    {
     "name": "stdout",
     "output_type": "stream",
     "text": [
      "   age          workclass  fnlwgt   education  education-num  \\\n",
      "0   39          State-gov   77516   Bachelors             13   \n",
      "1   50   Self-emp-not-inc   83311   Bachelors             13   \n",
      "2   38            Private  215646     HS-grad              9   \n",
      "3   53            Private  234721        11th              7   \n",
      "4   28            Private  338409   Bachelors             13   \n",
      "\n",
      "        marital-status          occupation    relationship    race      sex  \\\n",
      "0        Never-married        Adm-clerical   Not-in-family   White     Male   \n",
      "1   Married-civ-spouse     Exec-managerial         Husband   White     Male   \n",
      "2             Divorced   Handlers-cleaners   Not-in-family   White     Male   \n",
      "3   Married-civ-spouse   Handlers-cleaners         Husband   Black     Male   \n",
      "4   Married-civ-spouse      Prof-specialty            Wife   Black   Female   \n",
      "\n",
      "   capital-gain  capital-loss  hours-per-week  native-country  income  \n",
      "0          2174             0              40   United-States   <=50K  \n",
      "1             0             0              13   United-States   <=50K  \n",
      "2             0             0              40   United-States   <=50K  \n",
      "3             0             0              40   United-States   <=50K  \n",
      "4             0             0              40            Cuba   <=50K  \n",
      "age                int64\n",
      "workclass         object\n",
      "fnlwgt             int64\n",
      "education         object\n",
      "education-num      int64\n",
      "marital-status    object\n",
      "occupation        object\n",
      "relationship      object\n",
      "race              object\n",
      "sex               object\n",
      "capital-gain       int64\n",
      "capital-loss       int64\n",
      "hours-per-week     int64\n",
      "native-country    object\n",
      "income            object\n",
      "dtype: object\n"
     ]
    }
   ],
   "source": [
    "# load data into pandas DataFrame\n",
    "income_data = pd.read_csv('adult.csv', names=['age', 'workclass', 'fnlwgt', 'education', 'education-num', 'marital-status', 'occupation', 'relationship', 'race', 'sex', 'capital-gain', 'capital-loss', 'hours-per-week', 'native-country', 'income'])\n",
    "\n",
    "# inspect data and verify correct datatypes\n",
    "print(income_data.head())\n",
    "print(income_data.dtypes)"
   ]
  },
  {
   "cell_type": "markdown",
   "metadata": {},
   "source": [
    "The \"sex\" and \"native-country\" columns will be used to predict income, but random forests can't use columns that contain strings. A new column will made that identifies \"Male\" as 0 and \"Female\" as 1. Another new column will identify the native country of \"United-States\" as 0 and all other countries as 1."
   ]
  },
  {
   "cell_type": "code",
   "execution_count": 3,
   "metadata": {},
   "outputs": [],
   "source": [
    "income_data[\"sex-int\"] = income_data[\"sex\"].apply(lambda row: 0 if row == ' Male' else 1)\n",
    "\n",
    "income_data[\"country-int\"] = income_data[\"native-country\"].apply(lambda row: 0 if row == ' United-States' else 1)\n",
    "\n",
    "# space added before the strings to match the data file"
   ]
  },
  {
   "cell_type": "code",
   "execution_count": 4,
   "metadata": {},
   "outputs": [
    {
     "name": "stdout",
     "output_type": "stream",
     "text": [
      "              precision    recall  f1-score   support\n",
      "\n",
      "       <=50K       0.86      0.92      0.89      4945\n",
      "        >50K       0.68      0.53      0.60      1568\n",
      "\n",
      "    accuracy                           0.83      6513\n",
      "   macro avg       0.77      0.73      0.74      6513\n",
      "weighted avg       0.82      0.83      0.82      6513\n",
      "\n"
     ]
    }
   ],
   "source": [
    "# specify the labels as the \"income\" column\n",
    "labels = income_data.income\n",
    "\n",
    "# select data to be used to predict income\n",
    "data = income_data[['age', 'capital-gain', 'capital-loss', 'hours-per-week', 'sex-int', 'country-int', 'education-num']]\n",
    "\n",
    "# split data and labels into a training set and test set\n",
    "train_data, test_data, train_labels, test_labels = train_test_split(data, labels, test_size = 0.2, stratify=labels)\n",
    "\n",
    "# create classifier and fit the data\n",
    "forest = RandomForestClassifier(n_estimators = 200)\n",
    "forest.fit(train_data, train_labels)\n",
    "\n",
    "# determine and print classification report\n",
    "predictions = forest.predict(test_data)\n",
    "true_classes = test_labels\n",
    "report = classification_report(true_classes, predictions)\n",
    "print(report)"
   ]
  },
  {
   "cell_type": "markdown",
   "metadata": {},
   "source": [
    "The accuracy of over 0.8 suggests that the model is satisfactory. Upon closer inspection of the classification report it can be seen that the recall of the \"<=50K\" and \">50K\" labels are 0.92 and 0.53, respectively, which is important to check because the data is imbalanced (per the support)."
   ]
  },
  {
   "cell_type": "code",
   "execution_count": null,
   "metadata": {},
   "outputs": [],
   "source": []
  }
 ],
 "metadata": {
  "kernelspec": {
   "display_name": "Python 3",
   "language": "python",
   "name": "python3"
  },
  "language_info": {
   "codemirror_mode": {
    "name": "ipython",
    "version": 3
   },
   "file_extension": ".py",
   "mimetype": "text/x-python",
   "name": "python",
   "nbconvert_exporter": "python",
   "pygments_lexer": "ipython3",
   "version": "3.8.5"
  }
 },
 "nbformat": 4,
 "nbformat_minor": 4
}
